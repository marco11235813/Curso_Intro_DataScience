{
 "cells": [
  {
   "cell_type": "code",
   "execution_count": 114,
   "metadata": {},
   "outputs": [],
   "source": [
    "import io\n",
    "import numpy as np\n",
    "import pandas as pd\n",
    "import matplotlib.pyplot as plt\n",
    "import seaborn as sns\n",
    "import statsmodels.formula.api as smf\n",
    "sns.set()"
   ]
  },
  {
   "cell_type": "code",
   "execution_count": 2,
   "metadata": {},
   "outputs": [],
   "source": [
    "# este es un analisis del dataset 'nations' que contiene informacion sobre diferentes atributos del desarrollo humano\n",
    "# en 194 paises, recolectados por las naciones unidas"
   ]
  },
  {
   "cell_type": "markdown",
   "metadata": {},
   "source": [
    "* Contiene información a nivel mundial sobre demografía:\n",
    "    * `country`: País.\n",
    "    * `region`: Continente del país.\n",
    "    * `gdp`: Producto Interno Bruto per cápita, precios 2005.\n",
    "    * `school`: Promedio años de escolaridad.\n",
    "    * `adfert`: Fertilidad adolescente (Nacimientos 1:1000 en mujeres entre 15 y 19).\n",
    "    * `chldmort`: Probabilidad de muerte antes de los 5 años por cada 1000.\n",
    "    * `life`: Esperanza de vida al nacer.\n",
    "    * `pop`: Población total.\n",
    "    * `urban`: Porcentaje de población urbana.\n",
    "    * `femlab`: Tasa entre hombres y mujeres en el mercado laboral.\n",
    "    * `literacy`: Tasa de alfabetismo.\n",
    "    * `co2`: Toneladas de Co2 emitidas per cápita.\n",
    "    * `gini`: Coeficiente de desigualdad del ingreso."
   ]
  },
  {
   "cell_type": "code",
   "execution_count": 3,
   "metadata": {},
   "outputs": [],
   "source": [
    "# obtenemos el dataset\n",
    "\n",
    "df_nations= pd.read_csv(\"https://raw.githubusercontent.com/DireccionAcademicaADL/Nations-DB/main/nations.csv\", encoding=\"ISO-8859-1\")"
   ]
  },
  {
   "cell_type": "code",
   "execution_count": 4,
   "metadata": {},
   "outputs": [],
   "source": [
    "# descargamos el dataset en nuestro disco local para tener una copia de respaldo\n",
    "\n",
    "# df_nations.to_csv(\"C:/Users/usuario/Desktop/Datascience/Introduccion al analisis de datos con Python/nations.csv\")"
   ]
  },
  {
   "cell_type": "code",
   "execution_count": 5,
   "metadata": {},
   "outputs": [
    {
     "data": {
      "text/html": [
       "<div>\n",
       "<style scoped>\n",
       "    .dataframe tbody tr th:only-of-type {\n",
       "        vertical-align: middle;\n",
       "    }\n",
       "\n",
       "    .dataframe tbody tr th {\n",
       "        vertical-align: top;\n",
       "    }\n",
       "\n",
       "    .dataframe thead th {\n",
       "        text-align: right;\n",
       "    }\n",
       "</style>\n",
       "<table border=\"1\" class=\"dataframe\">\n",
       "  <thead>\n",
       "    <tr style=\"text-align: right;\">\n",
       "      <th></th>\n",
       "      <th>Unnamed: 0</th>\n",
       "      <th>country</th>\n",
       "      <th>region</th>\n",
       "      <th>gdp</th>\n",
       "      <th>school</th>\n",
       "      <th>adfert</th>\n",
       "      <th>chldmort</th>\n",
       "      <th>life</th>\n",
       "      <th>pop</th>\n",
       "      <th>urban</th>\n",
       "      <th>femlab</th>\n",
       "      <th>literacy</th>\n",
       "      <th>co2</th>\n",
       "      <th>gini</th>\n",
       "    </tr>\n",
       "  </thead>\n",
       "  <tbody>\n",
       "    <tr>\n",
       "      <th>0</th>\n",
       "      <td>1</td>\n",
       "      <td>Algeria</td>\n",
       "      <td>Africa</td>\n",
       "      <td>7300.399902</td>\n",
       "      <td>6.716667</td>\n",
       "      <td>7.300000</td>\n",
       "      <td>34.75</td>\n",
       "      <td>72.316666</td>\n",
       "      <td>34172236</td>\n",
       "      <td>64.933334</td>\n",
       "      <td>0.4522</td>\n",
       "      <td>72.599998</td>\n",
       "      <td>15.0</td>\n",
       "      <td>NaN</td>\n",
       "    </tr>\n",
       "    <tr>\n",
       "      <th>1</th>\n",
       "      <td>2</td>\n",
       "      <td>Benin</td>\n",
       "      <td>Africa</td>\n",
       "      <td>1338.800049</td>\n",
       "      <td>3.100000</td>\n",
       "      <td>111.699997</td>\n",
       "      <td>122.75</td>\n",
       "      <td>54.733334</td>\n",
       "      <td>8237634</td>\n",
       "      <td>41.000000</td>\n",
       "      <td>0.8482</td>\n",
       "      <td>41.700001</td>\n",
       "      <td>1.2</td>\n",
       "      <td>NaN</td>\n",
       "    </tr>\n",
       "    <tr>\n",
       "      <th>2</th>\n",
       "      <td>3</td>\n",
       "      <td>Botswana</td>\n",
       "      <td>Africa</td>\n",
       "      <td>12307.400391</td>\n",
       "      <td>8.600000</td>\n",
       "      <td>52.099998</td>\n",
       "      <td>60.25</td>\n",
       "      <td>52.250000</td>\n",
       "      <td>1941233</td>\n",
       "      <td>59.250000</td>\n",
       "      <td>0.8870</td>\n",
       "      <td>84.099998</td>\n",
       "      <td>9.2</td>\n",
       "      <td>NaN</td>\n",
       "    </tr>\n",
       "    <tr>\n",
       "      <th>3</th>\n",
       "      <td>4</td>\n",
       "      <td>Burkina Faso</td>\n",
       "      <td>Africa</td>\n",
       "      <td>1063.400024</td>\n",
       "      <td>1.300000</td>\n",
       "      <td>124.800003</td>\n",
       "      <td>170.50</td>\n",
       "      <td>53.783333</td>\n",
       "      <td>15308383</td>\n",
       "      <td>23.583334</td>\n",
       "      <td>0.8584</td>\n",
       "      <td>23.600000</td>\n",
       "      <td>0.2</td>\n",
       "      <td>NaN</td>\n",
       "    </tr>\n",
       "    <tr>\n",
       "      <th>4</th>\n",
       "      <td>5</td>\n",
       "      <td>Burundi</td>\n",
       "      <td>Africa</td>\n",
       "      <td>349.200012</td>\n",
       "      <td>2.483333</td>\n",
       "      <td>18.600000</td>\n",
       "      <td>168.50</td>\n",
       "      <td>48.866665</td>\n",
       "      <td>7821783</td>\n",
       "      <td>10.250000</td>\n",
       "      <td>1.0344</td>\n",
       "      <td>66.599998</td>\n",
       "      <td>0.1</td>\n",
       "      <td>33.299999</td>\n",
       "    </tr>\n",
       "  </tbody>\n",
       "</table>\n",
       "</div>"
      ],
      "text/plain": [
       "   Unnamed: 0       country  region           gdp    school      adfert  \\\n",
       "0           1       Algeria  Africa   7300.399902  6.716667    7.300000   \n",
       "1           2         Benin  Africa   1338.800049  3.100000  111.699997   \n",
       "2           3      Botswana  Africa  12307.400391  8.600000   52.099998   \n",
       "3           4  Burkina Faso  Africa   1063.400024  1.300000  124.800003   \n",
       "4           5       Burundi  Africa    349.200012  2.483333   18.600000   \n",
       "\n",
       "   chldmort       life       pop      urban  femlab   literacy   co2  \\\n",
       "0     34.75  72.316666  34172236  64.933334  0.4522  72.599998  15.0   \n",
       "1    122.75  54.733334   8237634  41.000000  0.8482  41.700001   1.2   \n",
       "2     60.25  52.250000   1941233  59.250000  0.8870  84.099998   9.2   \n",
       "3    170.50  53.783333  15308383  23.583334  0.8584  23.600000   0.2   \n",
       "4    168.50  48.866665   7821783  10.250000  1.0344  66.599998   0.1   \n",
       "\n",
       "        gini  \n",
       "0        NaN  \n",
       "1        NaN  \n",
       "2        NaN  \n",
       "3        NaN  \n",
       "4  33.299999  "
      ]
     },
     "execution_count": 5,
     "metadata": {},
     "output_type": "execute_result"
    }
   ],
   "source": [
    "df_nations.head()"
   ]
  },
  {
   "cell_type": "code",
   "execution_count": 6,
   "metadata": {},
   "outputs": [
    {
     "name": "stdout",
     "output_type": "stream",
     "text": [
      "<class 'pandas.core.frame.DataFrame'>\n",
      "RangeIndex: 194 entries, 0 to 193\n",
      "Data columns (total 14 columns):\n",
      " #   Column      Non-Null Count  Dtype  \n",
      "---  ------      --------------  -----  \n",
      " 0   Unnamed: 0  194 non-null    int64  \n",
      " 1   country     194 non-null    object \n",
      " 2   region      194 non-null    object \n",
      " 3   gdp         179 non-null    float64\n",
      " 4   school      188 non-null    float64\n",
      " 5   adfert      194 non-null    float64\n",
      " 6   chldmort    193 non-null    float64\n",
      " 7   life        194 non-null    float64\n",
      " 8   pop         194 non-null    int64  \n",
      " 9   urban       194 non-null    float64\n",
      " 10  femlab      177 non-null    float64\n",
      " 11  literacy    135 non-null    float64\n",
      " 12  co2         185 non-null    float64\n",
      " 13  gini        81 non-null     float64\n",
      "dtypes: float64(10), int64(2), object(2)\n",
      "memory usage: 21.3+ KB\n"
     ]
    }
   ],
   "source": [
    "# info general sobre el dataframe\n",
    "df_nations.info()"
   ]
  },
  {
   "cell_type": "code",
   "execution_count": 7,
   "metadata": {},
   "outputs": [
    {
     "data": {
      "text/plain": [
       "(194, 14)"
      ]
     },
     "execution_count": 7,
     "metadata": {},
     "output_type": "execute_result"
    }
   ],
   "source": [
    "# dimensiones del dataframe\n",
    "df_nations.shape"
   ]
  },
  {
   "cell_type": "code",
   "execution_count": 8,
   "metadata": {},
   "outputs": [
    {
     "data": {
      "text/plain": [
       "Unnamed: 0      0\n",
       "country         0\n",
       "region          0\n",
       "gdp            15\n",
       "school          6\n",
       "adfert          0\n",
       "chldmort        1\n",
       "life            0\n",
       "pop             0\n",
       "urban           0\n",
       "femlab         17\n",
       "literacy       59\n",
       "co2             9\n",
       "gini          113\n",
       "dtype: int64"
      ]
     },
     "execution_count": 8,
     "metadata": {},
     "output_type": "execute_result"
    }
   ],
   "source": [
    "# valores null/nan presentes en el dataframe\n",
    "df_nations.isnull().sum()"
   ]
  },
  {
   "cell_type": "code",
   "execution_count": 9,
   "metadata": {},
   "outputs": [],
   "source": [
    "# el dataframe cuenta con 194 registros, y en los campos gini y literacy hay faltante en un gran porcentaje de estos(119 en gini, 59 en literacy)\n",
    "# lo que nos dificulara el llegar a conclusiones sustentables y veridicas en el caso de utilizar dichas columnas en el analisis\n",
    "# por lo que lo mas recomendable es no utilizar esos campos en el analisis del dataframe."
   ]
  },
  {
   "cell_type": "code",
   "execution_count": 10,
   "metadata": {},
   "outputs": [
    {
     "data": {
      "text/plain": [
       "0.5824742268041238"
      ]
     },
     "execution_count": 10,
     "metadata": {},
     "output_type": "execute_result"
    }
   ],
   "source": [
    "faltantes_gini= df_nations['gini'].isnull().sum()/len(df_nations)\n",
    "faltantes_gini\n",
    "# el porcentaje de datos faltantes en el campo gini supera el 58% "
   ]
  },
  {
   "cell_type": "code",
   "execution_count": 11,
   "metadata": {},
   "outputs": [
    {
     "data": {
      "text/plain": [
       "0.30412371134020616"
      ]
     },
     "execution_count": 11,
     "metadata": {},
     "output_type": "execute_result"
    }
   ],
   "source": [
    "faltantes_literacy= df_nations['literacy'].isnull().sum()/len(df_nations)\n",
    "faltantes_literacy\n",
    "# el porcentaje de datos faltantes en el campo literacy es del 30%"
   ]
  },
  {
   "cell_type": "code",
   "execution_count": 12,
   "metadata": {},
   "outputs": [
    {
     "data": {
      "text/plain": [
       "Unnamed: 0      int64\n",
       "country        object\n",
       "region         object\n",
       "gdp           float64\n",
       "school        float64\n",
       "adfert        float64\n",
       "chldmort      float64\n",
       "life          float64\n",
       "pop             int64\n",
       "urban         float64\n",
       "femlab        float64\n",
       "literacy      float64\n",
       "co2           float64\n",
       "gini          float64\n",
       "dtype: object"
      ]
     },
     "execution_count": 12,
     "metadata": {},
     "output_type": "execute_result"
    }
   ],
   "source": [
    "# tipos de datos de cada columna en el dataframe\n",
    "df_nations.dtypes"
   ]
  },
  {
   "cell_type": "code",
   "execution_count": 13,
   "metadata": {},
   "outputs": [],
   "source": [
    "# eliminamos las columnas que no son necesarias o que cuentan con un alto porcentaje de datos faltante o nulos\n",
    "# df_nations= df_nations.drop(columns= 'Unnamed: 0', inplace= True)\n"
   ]
  },
  {
   "cell_type": "code",
   "execution_count": 14,
   "metadata": {},
   "outputs": [
    {
     "data": {
      "text/plain": [
       "0"
      ]
     },
     "execution_count": 14,
     "metadata": {},
     "output_type": "execute_result"
    }
   ],
   "source": [
    "# buscamos registros/filas repetidas en nuestro dataframe\n",
    "df_nations.duplicated().sum()"
   ]
  },
  {
   "cell_type": "code",
   "execution_count": 15,
   "metadata": {},
   "outputs": [],
   "source": [
    "# creamos un nuevo dataframe con las columnas a trabajar, para tener la copia original como respaldo\n",
    "df= df_nations.drop(columns= ['Unnamed: 0', 'gini', 'literacy'])"
   ]
  },
  {
   "cell_type": "code",
   "execution_count": 16,
   "metadata": {},
   "outputs": [],
   "source": [
    "# formateamos el nombre de los campos\n",
    "for campo in df.columns:\n",
    "    df= df.rename(columns= {campo:campo.title()})"
   ]
  },
  {
   "cell_type": "markdown",
   "metadata": {},
   "source": [
    "1. cual es el valor promedio de gdp en el dataset?\n",
    "2. cual es el valor mas bajo de alfabetismo en nuestro dataset?"
   ]
  },
  {
   "cell_type": "markdown",
   "metadata": {},
   "source": [
    "### 1-"
   ]
  },
  {
   "cell_type": "code",
   "execution_count": 17,
   "metadata": {},
   "outputs": [
    {
     "name": "stdout",
     "output_type": "stream",
     "text": [
      "El valor promedio del campo Gdp(Producto Interno Bruto per cápita) es $12118.739193367559 U$D\n"
     ]
    }
   ],
   "source": [
    "# obtenemos el valor promedio de gdp del dataset\n",
    "gdp_promedio= df['Gdp'].mean()\n",
    "print(f'El valor promedio del campo Gdp(Producto Interno Bruto per cápita) es ${gdp_promedio} U$D')"
   ]
  },
  {
   "cell_type": "markdown",
   "metadata": {},
   "source": [
    "### 2-"
   ]
  },
  {
   "cell_type": "code",
   "execution_count": 18,
   "metadata": {},
   "outputs": [
    {
     "name": "stdout",
     "output_type": "stream",
     "text": [
      "Pais con la tasa de alfabetismo mas baja:\n"
     ]
    },
    {
     "data": {
      "text/html": [
       "<div>\n",
       "<style scoped>\n",
       "    .dataframe tbody tr th:only-of-type {\n",
       "        vertical-align: middle;\n",
       "    }\n",
       "\n",
       "    .dataframe tbody tr th {\n",
       "        vertical-align: top;\n",
       "    }\n",
       "\n",
       "    .dataframe thead th {\n",
       "        text-align: right;\n",
       "    }\n",
       "</style>\n",
       "<table border=\"1\" class=\"dataframe\">\n",
       "  <thead>\n",
       "    <tr style=\"text-align: right;\">\n",
       "      <th></th>\n",
       "      <th>country</th>\n",
       "      <th>region</th>\n",
       "      <th>gdp</th>\n",
       "      <th>school</th>\n",
       "      <th>adfert</th>\n",
       "      <th>chldmort</th>\n",
       "      <th>life</th>\n",
       "      <th>pop</th>\n",
       "      <th>urban</th>\n",
       "      <th>femlab</th>\n",
       "      <th>literacy</th>\n",
       "      <th>co2</th>\n",
       "      <th>gini</th>\n",
       "    </tr>\n",
       "  </thead>\n",
       "  <tbody>\n",
       "    <tr>\n",
       "      <th>3</th>\n",
       "      <td>Burkina Faso</td>\n",
       "      <td>Africa</td>\n",
       "      <td>1063.400024</td>\n",
       "      <td>1.3</td>\n",
       "      <td>124.800003</td>\n",
       "      <td>170.5</td>\n",
       "      <td>53.783333</td>\n",
       "      <td>15308383</td>\n",
       "      <td>23.583334</td>\n",
       "      <td>0.8584</td>\n",
       "      <td>23.6</td>\n",
       "      <td>0.2</td>\n",
       "      <td>NaN</td>\n",
       "    </tr>\n",
       "  </tbody>\n",
       "</table>\n",
       "</div>"
      ],
      "text/plain": [
       "        country  region          gdp  school      adfert  chldmort       life  \\\n",
       "3  Burkina Faso  Africa  1063.400024     1.3  124.800003     170.5  53.783333   \n",
       "\n",
       "        pop      urban  femlab  literacy  co2  gini  \n",
       "3  15308383  23.583334  0.8584      23.6  0.2   NaN  "
      ]
     },
     "execution_count": 18,
     "metadata": {},
     "output_type": "execute_result"
    }
   ],
   "source": [
    "# obtenemos el valor minimo del campo literacy del dataset\n",
    "alfabetismo_min= df_nations['literacy'].min()\n",
    "print('Pais con la tasa de alfabetismo mas baja:')\n",
    "df_nations[df_nations['literacy'] == alfabetismo_min].drop(columns= ['Unnamed: 0'])"
   ]
  },
  {
   "cell_type": "markdown",
   "metadata": {},
   "source": [
    "1. ¿Qué tipos de atributos nos encontramos en el dataset?\n",
    "2. ¿Cuántos datos tenemos en cada región?\n",
    "3. ¿Cuántos países tienen índices de CO_2 mayores que el promedio?\n",
    "4. ¿Que se puede decir del alfabetismo en áfrica o europa?"
   ]
  },
  {
   "cell_type": "markdown",
   "metadata": {},
   "source": [
    "### 1-"
   ]
  },
  {
   "cell_type": "code",
   "execution_count": 19,
   "metadata": {},
   "outputs": [
    {
     "data": {
      "text/plain": [
       "Country      object\n",
       "Region       object\n",
       "Gdp         float64\n",
       "School      float64\n",
       "Adfert      float64\n",
       "Chldmort    float64\n",
       "Life        float64\n",
       "Pop           int64\n",
       "Urban       float64\n",
       "Femlab      float64\n",
       "Co2         float64\n",
       "dtype: object"
      ]
     },
     "execution_count": 19,
     "metadata": {},
     "output_type": "execute_result"
    }
   ],
   "source": [
    "# tipos de atributos(campos) presentes en el dataframe\n",
    "df.dtypes"
   ]
  },
  {
   "cell_type": "markdown",
   "metadata": {},
   "source": [
    "### 2-"
   ]
  },
  {
   "cell_type": "code",
   "execution_count": 20,
   "metadata": {},
   "outputs": [
    {
     "data": {
      "text/html": [
       "<div>\n",
       "<style scoped>\n",
       "    .dataframe tbody tr th:only-of-type {\n",
       "        vertical-align: middle;\n",
       "    }\n",
       "\n",
       "    .dataframe tbody tr th {\n",
       "        vertical-align: top;\n",
       "    }\n",
       "\n",
       "    .dataframe thead th {\n",
       "        text-align: right;\n",
       "    }\n",
       "</style>\n",
       "<table border=\"1\" class=\"dataframe\">\n",
       "  <thead>\n",
       "    <tr style=\"text-align: right;\">\n",
       "      <th></th>\n",
       "      <th>Country</th>\n",
       "      <th>Gdp</th>\n",
       "      <th>School</th>\n",
       "      <th>Adfert</th>\n",
       "      <th>Chldmort</th>\n",
       "      <th>Life</th>\n",
       "      <th>Pop</th>\n",
       "      <th>Urban</th>\n",
       "      <th>Femlab</th>\n",
       "      <th>Co2</th>\n",
       "    </tr>\n",
       "    <tr>\n",
       "      <th>Region</th>\n",
       "      <th></th>\n",
       "      <th></th>\n",
       "      <th></th>\n",
       "      <th></th>\n",
       "      <th></th>\n",
       "      <th></th>\n",
       "      <th></th>\n",
       "      <th></th>\n",
       "      <th></th>\n",
       "      <th></th>\n",
       "    </tr>\n",
       "  </thead>\n",
       "  <tbody>\n",
       "    <tr>\n",
       "      <th>Africa</th>\n",
       "      <td>52</td>\n",
       "      <td>50</td>\n",
       "      <td>51</td>\n",
       "      <td>52</td>\n",
       "      <td>52</td>\n",
       "      <td>52</td>\n",
       "      <td>52</td>\n",
       "      <td>52</td>\n",
       "      <td>51</td>\n",
       "      <td>51</td>\n",
       "    </tr>\n",
       "    <tr>\n",
       "      <th>Americas</th>\n",
       "      <td>35</td>\n",
       "      <td>33</td>\n",
       "      <td>35</td>\n",
       "      <td>35</td>\n",
       "      <td>35</td>\n",
       "      <td>35</td>\n",
       "      <td>35</td>\n",
       "      <td>35</td>\n",
       "      <td>31</td>\n",
       "      <td>35</td>\n",
       "    </tr>\n",
       "    <tr>\n",
       "      <th>Asia</th>\n",
       "      <td>49</td>\n",
       "      <td>46</td>\n",
       "      <td>48</td>\n",
       "      <td>49</td>\n",
       "      <td>48</td>\n",
       "      <td>49</td>\n",
       "      <td>49</td>\n",
       "      <td>49</td>\n",
       "      <td>49</td>\n",
       "      <td>49</td>\n",
       "    </tr>\n",
       "    <tr>\n",
       "      <th>Europe</th>\n",
       "      <td>43</td>\n",
       "      <td>39</td>\n",
       "      <td>41</td>\n",
       "      <td>43</td>\n",
       "      <td>43</td>\n",
       "      <td>43</td>\n",
       "      <td>43</td>\n",
       "      <td>43</td>\n",
       "      <td>37</td>\n",
       "      <td>37</td>\n",
       "    </tr>\n",
       "    <tr>\n",
       "      <th>Oceania</th>\n",
       "      <td>15</td>\n",
       "      <td>11</td>\n",
       "      <td>13</td>\n",
       "      <td>15</td>\n",
       "      <td>15</td>\n",
       "      <td>15</td>\n",
       "      <td>15</td>\n",
       "      <td>15</td>\n",
       "      <td>9</td>\n",
       "      <td>13</td>\n",
       "    </tr>\n",
       "  </tbody>\n",
       "</table>\n",
       "</div>"
      ],
      "text/plain": [
       "          Country  Gdp  School  Adfert  Chldmort  Life  Pop  Urban  Femlab  \\\n",
       "Region                                                                       \n",
       "Africa         52   50      51      52        52    52   52     52      51   \n",
       "Americas       35   33      35      35        35    35   35     35      31   \n",
       "Asia           49   46      48      49        48    49   49     49      49   \n",
       "Europe         43   39      41      43        43    43   43     43      37   \n",
       "Oceania        15   11      13      15        15    15   15     15       9   \n",
       "\n",
       "          Co2  \n",
       "Region         \n",
       "Africa     51  \n",
       "Americas   35  \n",
       "Asia       49  \n",
       "Europe     37  \n",
       "Oceania    13  "
      ]
     },
     "execution_count": 20,
     "metadata": {},
     "output_type": "execute_result"
    }
   ],
   "source": [
    "# datos presentes por region\n",
    "\n",
    "datos_por_region= df.groupby(by= ['Region']).count()\n",
    "registros_por_region= df['Region'].value_counts()\n",
    "datos_por_region"
   ]
  },
  {
   "cell_type": "code",
   "execution_count": 21,
   "metadata": {},
   "outputs": [
    {
     "data": {
      "text/plain": [
       "Africa      52\n",
       "Asia        49\n",
       "Europe      43\n",
       "Americas    35\n",
       "Oceania     15\n",
       "Name: Region, dtype: int64"
      ]
     },
     "execution_count": 21,
     "metadata": {},
     "output_type": "execute_result"
    }
   ],
   "source": [
    "# registros presentes por region\n",
    "registros_por_region\n",
    "\n",
    "\n",
    "# recordemos que nuestro campo/columna region no presenta valores nulos"
   ]
  },
  {
   "cell_type": "markdown",
   "metadata": {},
   "source": [
    "### 3-"
   ]
  },
  {
   "cell_type": "code",
   "execution_count": 22,
   "metadata": {},
   "outputs": [
    {
     "data": {
      "text/html": [
       "<div>\n",
       "<style scoped>\n",
       "    .dataframe tbody tr th:only-of-type {\n",
       "        vertical-align: middle;\n",
       "    }\n",
       "\n",
       "    .dataframe tbody tr th {\n",
       "        vertical-align: top;\n",
       "    }\n",
       "\n",
       "    .dataframe thead th {\n",
       "        text-align: right;\n",
       "    }\n",
       "</style>\n",
       "<table border=\"1\" class=\"dataframe\">\n",
       "  <thead>\n",
       "    <tr style=\"text-align: right;\">\n",
       "      <th></th>\n",
       "      <th>Country</th>\n",
       "      <th>Region</th>\n",
       "      <th>Gdp</th>\n",
       "      <th>School</th>\n",
       "      <th>Adfert</th>\n",
       "      <th>Chldmort</th>\n",
       "      <th>Life</th>\n",
       "      <th>Pop</th>\n",
       "      <th>Urban</th>\n",
       "      <th>Femlab</th>\n",
       "      <th>Co2</th>\n",
       "    </tr>\n",
       "  </thead>\n",
       "  <tbody>\n",
       "    <tr>\n",
       "      <th>15</th>\n",
       "      <td>Equatorial Guinea</td>\n",
       "      <td>Africa</td>\n",
       "      <td>27645.800781</td>\n",
       "      <td>5.400000</td>\n",
       "      <td>122.900002</td>\n",
       "      <td>149.50</td>\n",
       "      <td>50.066666</td>\n",
       "      <td>653533</td>\n",
       "      <td>39.266666</td>\n",
       "      <td>0.4140</td>\n",
       "      <td>32.550003</td>\n",
       "    </tr>\n",
       "    <tr>\n",
       "      <th>26</th>\n",
       "      <td>Libya</td>\n",
       "      <td>Africa</td>\n",
       "      <td>14497.799805</td>\n",
       "      <td>6.816667</td>\n",
       "      <td>3.200000</td>\n",
       "      <td>19.75</td>\n",
       "      <td>74.016663</td>\n",
       "      <td>6075651</td>\n",
       "      <td>77.433334</td>\n",
       "      <td>0.3096</td>\n",
       "      <td>33.849998</td>\n",
       "    </tr>\n",
       "    <tr>\n",
       "      <th>40</th>\n",
       "      <td>Seychelles</td>\n",
       "      <td>Africa</td>\n",
       "      <td>18625.800781</td>\n",
       "      <td>9.400000</td>\n",
       "      <td>51.299999</td>\n",
       "      <td>12.75</td>\n",
       "      <td>72.983330</td>\n",
       "      <td>85167</td>\n",
       "      <td>54.066666</td>\n",
       "      <td>NaN</td>\n",
       "      <td>30.799999</td>\n",
       "    </tr>\n",
       "    <tr>\n",
       "      <th>43</th>\n",
       "      <td>South Africa</td>\n",
       "      <td>Africa</td>\n",
       "      <td>9175.400391</td>\n",
       "      <td>8.350000</td>\n",
       "      <td>59.200001</td>\n",
       "      <td>68.75</td>\n",
       "      <td>51.433334</td>\n",
       "      <td>49028316</td>\n",
       "      <td>60.483334</td>\n",
       "      <td>0.7406</td>\n",
       "      <td>31.400000</td>\n",
       "    </tr>\n",
       "    <tr>\n",
       "      <th>52</th>\n",
       "      <td>Antigua and Barbuda</td>\n",
       "      <td>Americas</td>\n",
       "      <td>17676.400391</td>\n",
       "      <td>8.900000</td>\n",
       "      <td>55.500000</td>\n",
       "      <td>13.00</td>\n",
       "      <td>72.166664</td>\n",
       "      <td>86367</td>\n",
       "      <td>30.466667</td>\n",
       "      <td>NaN</td>\n",
       "      <td>18.299999</td>\n",
       "    </tr>\n",
       "    <tr>\n",
       "      <th>...</th>\n",
       "      <td>...</td>\n",
       "      <td>...</td>\n",
       "      <td>...</td>\n",
       "      <td>...</td>\n",
       "      <td>...</td>\n",
       "      <td>...</td>\n",
       "      <td>...</td>\n",
       "      <td>...</td>\n",
       "      <td>...</td>\n",
       "      <td>...</td>\n",
       "      <td>...</td>\n",
       "    </tr>\n",
       "    <tr>\n",
       "      <th>178</th>\n",
       "      <td>United Kingdom</td>\n",
       "      <td>Europe</td>\n",
       "      <td>33295.800781</td>\n",
       "      <td>9.066667</td>\n",
       "      <td>29.600000</td>\n",
       "      <td>6.00</td>\n",
       "      <td>79.550003</td>\n",
       "      <td>61099184</td>\n",
       "      <td>79.316666</td>\n",
       "      <td>0.7916</td>\n",
       "      <td>34.099998</td>\n",
       "    </tr>\n",
       "    <tr>\n",
       "      <th>180</th>\n",
       "      <td>Australia</td>\n",
       "      <td>Oceania</td>\n",
       "      <td>33707.199219</td>\n",
       "      <td>11.983334</td>\n",
       "      <td>16.500000</td>\n",
       "      <td>5.25</td>\n",
       "      <td>81.400002</td>\n",
       "      <td>21325382</td>\n",
       "      <td>88.666664</td>\n",
       "      <td>0.7994</td>\n",
       "      <td>66.199997</td>\n",
       "    </tr>\n",
       "    <tr>\n",
       "      <th>185</th>\n",
       "      <td>Nauru</td>\n",
       "      <td>Oceania</td>\n",
       "      <td>NaN</td>\n",
       "      <td>NaN</td>\n",
       "      <td>31.200001</td>\n",
       "      <td>45.50</td>\n",
       "      <td>79.466667</td>\n",
       "      <td>10183</td>\n",
       "      <td>100.000000</td>\n",
       "      <td>NaN</td>\n",
       "      <td>51.849998</td>\n",
       "    </tr>\n",
       "    <tr>\n",
       "      <th>186</th>\n",
       "      <td>New Zealand</td>\n",
       "      <td>Oceania</td>\n",
       "      <td>25199.599609</td>\n",
       "      <td>12.366667</td>\n",
       "      <td>30.900000</td>\n",
       "      <td>6.25</td>\n",
       "      <td>80.083336</td>\n",
       "      <td>4253334</td>\n",
       "      <td>86.133331</td>\n",
       "      <td>0.8118</td>\n",
       "      <td>26.950001</td>\n",
       "    </tr>\n",
       "    <tr>\n",
       "      <th>187</th>\n",
       "      <td>Palau</td>\n",
       "      <td>Oceania</td>\n",
       "      <td>NaN</td>\n",
       "      <td>12.100000</td>\n",
       "      <td>13.800000</td>\n",
       "      <td>15.00</td>\n",
       "      <td>70.666664</td>\n",
       "      <td>20167</td>\n",
       "      <td>80.683334</td>\n",
       "      <td>NaN</td>\n",
       "      <td>21.349998</td>\n",
       "    </tr>\n",
       "  </tbody>\n",
       "</table>\n",
       "<p>64 rows × 11 columns</p>\n",
       "</div>"
      ],
      "text/plain": [
       "                 Country    Region           Gdp     School      Adfert  \\\n",
       "15     Equatorial Guinea    Africa  27645.800781   5.400000  122.900002   \n",
       "26                 Libya    Africa  14497.799805   6.816667    3.200000   \n",
       "40            Seychelles    Africa  18625.800781   9.400000   51.299999   \n",
       "43          South Africa    Africa   9175.400391   8.350000   59.200001   \n",
       "52   Antigua and Barbuda  Americas  17676.400391   8.900000   55.500000   \n",
       "..                   ...       ...           ...        ...         ...   \n",
       "178       United Kingdom    Europe  33295.800781   9.066667   29.600000   \n",
       "180            Australia   Oceania  33707.199219  11.983334   16.500000   \n",
       "185                Nauru   Oceania           NaN        NaN   31.200001   \n",
       "186          New Zealand   Oceania  25199.599609  12.366667   30.900000   \n",
       "187                Palau   Oceania           NaN  12.100000   13.800000   \n",
       "\n",
       "     Chldmort       Life       Pop       Urban  Femlab        Co2  \n",
       "15     149.50  50.066666    653533   39.266666  0.4140  32.550003  \n",
       "26      19.75  74.016663   6075651   77.433334  0.3096  33.849998  \n",
       "40      12.75  72.983330     85167   54.066666     NaN  30.799999  \n",
       "43      68.75  51.433334  49028316   60.483334  0.7406  31.400000  \n",
       "52      13.00  72.166664     86367   30.466667     NaN  18.299999  \n",
       "..        ...        ...       ...         ...     ...        ...  \n",
       "178      6.00  79.550003  61099184   79.316666  0.7916  34.099998  \n",
       "180      5.25  81.400002  21325382   88.666664  0.7994  66.199997  \n",
       "185     45.50  79.466667     10183  100.000000     NaN  51.849998  \n",
       "186      6.25  80.083336   4253334   86.133331  0.8118  26.950001  \n",
       "187     15.00  70.666664     20167   80.683334     NaN  21.349998  \n",
       "\n",
       "[64 rows x 11 columns]"
      ]
     },
     "execution_count": 22,
     "metadata": {},
     "output_type": "execute_result"
    }
   ],
   "source": [
    "# primero obtenemos la sumatoria total de emisiones co2 del dataframe\n",
    "sum_co2= df['Co2'].sum()\n",
    "\n",
    "# obtenemos la cantidad de paises encuestados(recordemos que el campo paises no presenta valores nulos)\n",
    "\n",
    "# paises= df['Country'].value_counts()\n",
    "cant_paises= len(set(df['Country']))\n",
    "\n",
    "# sacamos el promedio general de emisiones co2 de nuestro dataframe y realizamos la comparacion de esta cantidad de emisiones con el valor de emisiones de cada pais en particular\n",
    "prom_co2= sum_co2/cant_paises\n",
    "superan_prom_co2= df[df.Co2 > prom_co2]\n",
    "\n",
    "# paises que superan el promedio de emisiones co2\n",
    "superan_prom_co2"
   ]
  },
  {
   "cell_type": "code",
   "execution_count": 23,
   "metadata": {},
   "outputs": [
    {
     "data": {
      "text/html": [
       "<div>\n",
       "<style scoped>\n",
       "    .dataframe tbody tr th:only-of-type {\n",
       "        vertical-align: middle;\n",
       "    }\n",
       "\n",
       "    .dataframe tbody tr th {\n",
       "        vertical-align: top;\n",
       "    }\n",
       "\n",
       "    .dataframe thead th {\n",
       "        text-align: right;\n",
       "    }\n",
       "</style>\n",
       "<table border=\"1\" class=\"dataframe\">\n",
       "  <thead>\n",
       "    <tr style=\"text-align: right;\">\n",
       "      <th></th>\n",
       "      <th>Country</th>\n",
       "      <th>Region</th>\n",
       "      <th>Gdp</th>\n",
       "      <th>School</th>\n",
       "      <th>Adfert</th>\n",
       "      <th>Chldmort</th>\n",
       "      <th>Life</th>\n",
       "      <th>Pop</th>\n",
       "      <th>Urban</th>\n",
       "      <th>Femlab</th>\n",
       "      <th>Co2</th>\n",
       "    </tr>\n",
       "  </thead>\n",
       "  <tbody>\n",
       "    <tr>\n",
       "      <th>15</th>\n",
       "      <td>Equatorial Guinea</td>\n",
       "      <td>Africa</td>\n",
       "      <td>27645.800781</td>\n",
       "      <td>5.400000</td>\n",
       "      <td>122.900002</td>\n",
       "      <td>149.50</td>\n",
       "      <td>50.066666</td>\n",
       "      <td>653533</td>\n",
       "      <td>39.266666</td>\n",
       "      <td>0.4140</td>\n",
       "      <td>32.550003</td>\n",
       "    </tr>\n",
       "    <tr>\n",
       "      <th>26</th>\n",
       "      <td>Libya</td>\n",
       "      <td>Africa</td>\n",
       "      <td>14497.799805</td>\n",
       "      <td>6.816667</td>\n",
       "      <td>3.200000</td>\n",
       "      <td>19.75</td>\n",
       "      <td>74.016663</td>\n",
       "      <td>6075651</td>\n",
       "      <td>77.433334</td>\n",
       "      <td>0.3096</td>\n",
       "      <td>33.849998</td>\n",
       "    </tr>\n",
       "    <tr>\n",
       "      <th>40</th>\n",
       "      <td>Seychelles</td>\n",
       "      <td>Africa</td>\n",
       "      <td>18625.800781</td>\n",
       "      <td>9.400000</td>\n",
       "      <td>51.299999</td>\n",
       "      <td>12.75</td>\n",
       "      <td>72.983330</td>\n",
       "      <td>85167</td>\n",
       "      <td>54.066666</td>\n",
       "      <td>NaN</td>\n",
       "      <td>30.799999</td>\n",
       "    </tr>\n",
       "    <tr>\n",
       "      <th>43</th>\n",
       "      <td>South Africa</td>\n",
       "      <td>Africa</td>\n",
       "      <td>9175.400391</td>\n",
       "      <td>8.350000</td>\n",
       "      <td>59.200001</td>\n",
       "      <td>68.75</td>\n",
       "      <td>51.433334</td>\n",
       "      <td>49028316</td>\n",
       "      <td>60.483334</td>\n",
       "      <td>0.7406</td>\n",
       "      <td>31.400000</td>\n",
       "    </tr>\n",
       "    <tr>\n",
       "      <th>52</th>\n",
       "      <td>Antigua and Barbuda</td>\n",
       "      <td>Americas</td>\n",
       "      <td>17676.400391</td>\n",
       "      <td>8.900000</td>\n",
       "      <td>55.500000</td>\n",
       "      <td>13.00</td>\n",
       "      <td>72.166664</td>\n",
       "      <td>86367</td>\n",
       "      <td>30.466667</td>\n",
       "      <td>NaN</td>\n",
       "      <td>18.299999</td>\n",
       "    </tr>\n",
       "    <tr>\n",
       "      <th>...</th>\n",
       "      <td>...</td>\n",
       "      <td>...</td>\n",
       "      <td>...</td>\n",
       "      <td>...</td>\n",
       "      <td>...</td>\n",
       "      <td>...</td>\n",
       "      <td>...</td>\n",
       "      <td>...</td>\n",
       "      <td>...</td>\n",
       "      <td>...</td>\n",
       "      <td>...</td>\n",
       "    </tr>\n",
       "    <tr>\n",
       "      <th>178</th>\n",
       "      <td>United Kingdom</td>\n",
       "      <td>Europe</td>\n",
       "      <td>33295.800781</td>\n",
       "      <td>9.066667</td>\n",
       "      <td>29.600000</td>\n",
       "      <td>6.00</td>\n",
       "      <td>79.550003</td>\n",
       "      <td>61099184</td>\n",
       "      <td>79.316666</td>\n",
       "      <td>0.7916</td>\n",
       "      <td>34.099998</td>\n",
       "    </tr>\n",
       "    <tr>\n",
       "      <th>180</th>\n",
       "      <td>Australia</td>\n",
       "      <td>Oceania</td>\n",
       "      <td>33707.199219</td>\n",
       "      <td>11.983334</td>\n",
       "      <td>16.500000</td>\n",
       "      <td>5.25</td>\n",
       "      <td>81.400002</td>\n",
       "      <td>21325382</td>\n",
       "      <td>88.666664</td>\n",
       "      <td>0.7994</td>\n",
       "      <td>66.199997</td>\n",
       "    </tr>\n",
       "    <tr>\n",
       "      <th>185</th>\n",
       "      <td>Nauru</td>\n",
       "      <td>Oceania</td>\n",
       "      <td>NaN</td>\n",
       "      <td>NaN</td>\n",
       "      <td>31.200001</td>\n",
       "      <td>45.50</td>\n",
       "      <td>79.466667</td>\n",
       "      <td>10183</td>\n",
       "      <td>100.000000</td>\n",
       "      <td>NaN</td>\n",
       "      <td>51.849998</td>\n",
       "    </tr>\n",
       "    <tr>\n",
       "      <th>186</th>\n",
       "      <td>New Zealand</td>\n",
       "      <td>Oceania</td>\n",
       "      <td>25199.599609</td>\n",
       "      <td>12.366667</td>\n",
       "      <td>30.900000</td>\n",
       "      <td>6.25</td>\n",
       "      <td>80.083336</td>\n",
       "      <td>4253334</td>\n",
       "      <td>86.133331</td>\n",
       "      <td>0.8118</td>\n",
       "      <td>26.950001</td>\n",
       "    </tr>\n",
       "    <tr>\n",
       "      <th>187</th>\n",
       "      <td>Palau</td>\n",
       "      <td>Oceania</td>\n",
       "      <td>NaN</td>\n",
       "      <td>12.100000</td>\n",
       "      <td>13.800000</td>\n",
       "      <td>15.00</td>\n",
       "      <td>70.666664</td>\n",
       "      <td>20167</td>\n",
       "      <td>80.683334</td>\n",
       "      <td>NaN</td>\n",
       "      <td>21.349998</td>\n",
       "    </tr>\n",
       "  </tbody>\n",
       "</table>\n",
       "<p>64 rows × 11 columns</p>\n",
       "</div>"
      ],
      "text/plain": [
       "                 Country    Region           Gdp     School      Adfert  \\\n",
       "15     Equatorial Guinea    Africa  27645.800781   5.400000  122.900002   \n",
       "26                 Libya    Africa  14497.799805   6.816667    3.200000   \n",
       "40            Seychelles    Africa  18625.800781   9.400000   51.299999   \n",
       "43          South Africa    Africa   9175.400391   8.350000   59.200001   \n",
       "52   Antigua and Barbuda  Americas  17676.400391   8.900000   55.500000   \n",
       "..                   ...       ...           ...        ...         ...   \n",
       "178       United Kingdom    Europe  33295.800781   9.066667   29.600000   \n",
       "180            Australia   Oceania  33707.199219  11.983334   16.500000   \n",
       "185                Nauru   Oceania           NaN        NaN   31.200001   \n",
       "186          New Zealand   Oceania  25199.599609  12.366667   30.900000   \n",
       "187                Palau   Oceania           NaN  12.100000   13.800000   \n",
       "\n",
       "     Chldmort       Life       Pop       Urban  Femlab        Co2  \n",
       "15     149.50  50.066666    653533   39.266666  0.4140  32.550003  \n",
       "26      19.75  74.016663   6075651   77.433334  0.3096  33.849998  \n",
       "40      12.75  72.983330     85167   54.066666     NaN  30.799999  \n",
       "43      68.75  51.433334  49028316   60.483334  0.7406  31.400000  \n",
       "52      13.00  72.166664     86367   30.466667     NaN  18.299999  \n",
       "..        ...        ...       ...         ...     ...        ...  \n",
       "178      6.00  79.550003  61099184   79.316666  0.7916  34.099998  \n",
       "180      5.25  81.400002  21325382   88.666664  0.7994  66.199997  \n",
       "185     45.50  79.466667     10183  100.000000     NaN  51.849998  \n",
       "186      6.25  80.083336   4253334   86.133331  0.8118  26.950001  \n",
       "187     15.00  70.666664     20167   80.683334     NaN  21.349998  \n",
       "\n",
       "[64 rows x 11 columns]"
      ]
     },
     "execution_count": 23,
     "metadata": {},
     "output_type": "execute_result"
    }
   ],
   "source": [
    "# otra forma\n",
    "\n",
    "mayor_al_promedio_co2= np.where(df['Co2'] > np.mean(df['Co2'].dropna()))\n",
    "df.iloc[mayor_al_promedio_co2]"
   ]
  },
  {
   "cell_type": "code",
   "execution_count": 24,
   "metadata": {},
   "outputs": [
    {
     "name": "stdout",
     "output_type": "stream",
     "text": [
      "El 32.99% de los paises del dataset presentan emisiones co2 mayores a la media\n"
     ]
    }
   ],
   "source": [
    "print(f'El {round((len(df.iloc[mayor_al_promedio_co2])/len(df))*100,2)}% de los paises del dataset presentan emisiones co2 mayores a la media')"
   ]
  },
  {
   "cell_type": "code",
   "execution_count": 25,
   "metadata": {},
   "outputs": [
    {
     "name": "stdout",
     "output_type": "stream",
     "text": [
      "Cantidad de paises con emisiones de co2 mayores al promedio: 64\n"
     ]
    }
   ],
   "source": [
    "print(f'Cantidad de paises con emisiones de co2 mayores al promedio: {len(df.iloc[mayor_al_promedio_co2])}')"
   ]
  },
  {
   "cell_type": "markdown",
   "metadata": {},
   "source": [
    "### 4-"
   ]
  },
  {
   "cell_type": "code",
   "execution_count": 50,
   "metadata": {},
   "outputs": [
    {
     "data": {
      "text/html": [
       "<div>\n",
       "<style scoped>\n",
       "    .dataframe tbody tr th:only-of-type {\n",
       "        vertical-align: middle;\n",
       "    }\n",
       "\n",
       "    .dataframe tbody tr th {\n",
       "        vertical-align: top;\n",
       "    }\n",
       "\n",
       "    .dataframe thead th {\n",
       "        text-align: right;\n",
       "    }\n",
       "</style>\n",
       "<table border=\"1\" class=\"dataframe\">\n",
       "  <thead>\n",
       "    <tr style=\"text-align: right;\">\n",
       "      <th></th>\n",
       "      <th>country</th>\n",
       "      <th>region</th>\n",
       "      <th>gdp</th>\n",
       "      <th>school</th>\n",
       "      <th>adfert</th>\n",
       "      <th>chldmort</th>\n",
       "      <th>life</th>\n",
       "      <th>pop</th>\n",
       "      <th>urban</th>\n",
       "      <th>femlab</th>\n",
       "      <th>literacy</th>\n",
       "      <th>co2</th>\n",
       "    </tr>\n",
       "  </thead>\n",
       "  <tbody>\n",
       "    <tr>\n",
       "      <th>0</th>\n",
       "      <td>Algeria</td>\n",
       "      <td>Africa</td>\n",
       "      <td>7300.399902</td>\n",
       "      <td>6.716667</td>\n",
       "      <td>7.300000</td>\n",
       "      <td>34.75</td>\n",
       "      <td>72.316666</td>\n",
       "      <td>34172236</td>\n",
       "      <td>64.933334</td>\n",
       "      <td>0.4522</td>\n",
       "      <td>72.599998</td>\n",
       "      <td>15.000000</td>\n",
       "    </tr>\n",
       "    <tr>\n",
       "      <th>1</th>\n",
       "      <td>Benin</td>\n",
       "      <td>Africa</td>\n",
       "      <td>1338.800049</td>\n",
       "      <td>3.100000</td>\n",
       "      <td>111.699997</td>\n",
       "      <td>122.75</td>\n",
       "      <td>54.733334</td>\n",
       "      <td>8237634</td>\n",
       "      <td>41.000000</td>\n",
       "      <td>0.8482</td>\n",
       "      <td>41.700001</td>\n",
       "      <td>1.200000</td>\n",
       "    </tr>\n",
       "    <tr>\n",
       "      <th>2</th>\n",
       "      <td>Botswana</td>\n",
       "      <td>Africa</td>\n",
       "      <td>12307.400391</td>\n",
       "      <td>8.600000</td>\n",
       "      <td>52.099998</td>\n",
       "      <td>60.25</td>\n",
       "      <td>52.250000</td>\n",
       "      <td>1941233</td>\n",
       "      <td>59.250000</td>\n",
       "      <td>0.8870</td>\n",
       "      <td>84.099998</td>\n",
       "      <td>9.200000</td>\n",
       "    </tr>\n",
       "    <tr>\n",
       "      <th>3</th>\n",
       "      <td>Burkina Faso</td>\n",
       "      <td>Africa</td>\n",
       "      <td>1063.400024</td>\n",
       "      <td>1.300000</td>\n",
       "      <td>124.800003</td>\n",
       "      <td>170.50</td>\n",
       "      <td>53.783333</td>\n",
       "      <td>15308383</td>\n",
       "      <td>23.583334</td>\n",
       "      <td>0.8584</td>\n",
       "      <td>23.600000</td>\n",
       "      <td>0.200000</td>\n",
       "    </tr>\n",
       "    <tr>\n",
       "      <th>4</th>\n",
       "      <td>Burundi</td>\n",
       "      <td>Africa</td>\n",
       "      <td>349.200012</td>\n",
       "      <td>2.483333</td>\n",
       "      <td>18.600000</td>\n",
       "      <td>168.50</td>\n",
       "      <td>48.866665</td>\n",
       "      <td>7821783</td>\n",
       "      <td>10.250000</td>\n",
       "      <td>1.0344</td>\n",
       "      <td>66.599998</td>\n",
       "      <td>0.100000</td>\n",
       "    </tr>\n",
       "    <tr>\n",
       "      <th>52</th>\n",
       "      <td>Antigua and Barbuda</td>\n",
       "      <td>Americas</td>\n",
       "      <td>17676.400391</td>\n",
       "      <td>8.900000</td>\n",
       "      <td>55.500000</td>\n",
       "      <td>13.00</td>\n",
       "      <td>72.166664</td>\n",
       "      <td>86367</td>\n",
       "      <td>30.466667</td>\n",
       "      <td>NaN</td>\n",
       "      <td>99.000000</td>\n",
       "      <td>18.299999</td>\n",
       "    </tr>\n",
       "    <tr>\n",
       "      <th>53</th>\n",
       "      <td>Argentina</td>\n",
       "      <td>Americas</td>\n",
       "      <td>12274.000000</td>\n",
       "      <td>9.083333</td>\n",
       "      <td>56.900002</td>\n",
       "      <td>15.25</td>\n",
       "      <td>75.283333</td>\n",
       "      <td>39543736</td>\n",
       "      <td>91.900002</td>\n",
       "      <td>0.6544</td>\n",
       "      <td>97.699997</td>\n",
       "      <td>15.650000</td>\n",
       "    </tr>\n",
       "    <tr>\n",
       "      <th>54</th>\n",
       "      <td>Bahamas</td>\n",
       "      <td>Americas</td>\n",
       "      <td>NaN</td>\n",
       "      <td>8.500000</td>\n",
       "      <td>31.799999</td>\n",
       "      <td>13.75</td>\n",
       "      <td>74.599998</td>\n",
       "      <td>331233</td>\n",
       "      <td>83.599998</td>\n",
       "      <td>0.8656</td>\n",
       "      <td>NaN</td>\n",
       "      <td>23.950001</td>\n",
       "    </tr>\n",
       "    <tr>\n",
       "      <th>55</th>\n",
       "      <td>Barbados</td>\n",
       "      <td>Americas</td>\n",
       "      <td>19189.000000</td>\n",
       "      <td>9.250000</td>\n",
       "      <td>42.599998</td>\n",
       "      <td>11.50</td>\n",
       "      <td>76.300003</td>\n",
       "      <td>271917</td>\n",
       "      <td>42.900002</td>\n",
       "      <td>0.8430</td>\n",
       "      <td>NaN</td>\n",
       "      <td>16.650000</td>\n",
       "    </tr>\n",
       "    <tr>\n",
       "      <th>56</th>\n",
       "      <td>Belize</td>\n",
       "      <td>Americas</td>\n",
       "      <td>6208.799805</td>\n",
       "      <td>7.850000</td>\n",
       "      <td>78.699997</td>\n",
       "      <td>19.75</td>\n",
       "      <td>75.216667</td>\n",
       "      <td>296200</td>\n",
       "      <td>51.200001</td>\n",
       "      <td>0.5674</td>\n",
       "      <td>NaN</td>\n",
       "      <td>10.750000</td>\n",
       "    </tr>\n",
       "    <tr>\n",
       "      <th>87</th>\n",
       "      <td>Afghanistan</td>\n",
       "      <td>Asia</td>\n",
       "      <td>938.400024</td>\n",
       "      <td>2.950000</td>\n",
       "      <td>118.699997</td>\n",
       "      <td>203.00</td>\n",
       "      <td>47.400002</td>\n",
       "      <td>29501834</td>\n",
       "      <td>21.916666</td>\n",
       "      <td>0.3858</td>\n",
       "      <td>NaN</td>\n",
       "      <td>0.100000</td>\n",
       "    </tr>\n",
       "    <tr>\n",
       "      <th>88</th>\n",
       "      <td>Armenia</td>\n",
       "      <td>Asia</td>\n",
       "      <td>4879.399902</td>\n",
       "      <td>10.800000</td>\n",
       "      <td>35.700001</td>\n",
       "      <td>24.00</td>\n",
       "      <td>73.683334</td>\n",
       "      <td>3077700</td>\n",
       "      <td>64.116669</td>\n",
       "      <td>0.7996</td>\n",
       "      <td>99.500000</td>\n",
       "      <td>5.300000</td>\n",
       "    </tr>\n",
       "    <tr>\n",
       "      <th>89</th>\n",
       "      <td>Azerbaijan</td>\n",
       "      <td>Asia</td>\n",
       "      <td>6945.000000</td>\n",
       "      <td>8.600000</td>\n",
       "      <td>33.799999</td>\n",
       "      <td>38.75</td>\n",
       "      <td>69.900002</td>\n",
       "      <td>8884767</td>\n",
       "      <td>51.700001</td>\n",
       "      <td>0.8890</td>\n",
       "      <td>NaN</td>\n",
       "      <td>15.400000</td>\n",
       "    </tr>\n",
       "    <tr>\n",
       "      <th>90</th>\n",
       "      <td>Bahrain</td>\n",
       "      <td>Asia</td>\n",
       "      <td>30088.000000</td>\n",
       "      <td>9.216667</td>\n",
       "      <td>14.900000</td>\n",
       "      <td>12.00</td>\n",
       "      <td>74.599998</td>\n",
       "      <td>990950</td>\n",
       "      <td>88.500000</td>\n",
       "      <td>0.3810</td>\n",
       "      <td>91.400002</td>\n",
       "      <td>102.649994</td>\n",
       "    </tr>\n",
       "    <tr>\n",
       "      <th>91</th>\n",
       "      <td>Bangladesh</td>\n",
       "      <td>Asia</td>\n",
       "      <td>1177.800049</td>\n",
       "      <td>4.483334</td>\n",
       "      <td>78.900002</td>\n",
       "      <td>58.00</td>\n",
       "      <td>67.800003</td>\n",
       "      <td>144683104</td>\n",
       "      <td>26.866667</td>\n",
       "      <td>0.6952</td>\n",
       "      <td>55.900002</td>\n",
       "      <td>1.000000</td>\n",
       "    </tr>\n",
       "    <tr>\n",
       "      <th>136</th>\n",
       "      <td>Albania</td>\n",
       "      <td>Europe</td>\n",
       "      <td>6832.600098</td>\n",
       "      <td>10.283333</td>\n",
       "      <td>17.900000</td>\n",
       "      <td>17.00</td>\n",
       "      <td>76.400002</td>\n",
       "      <td>3174417</td>\n",
       "      <td>49.350002</td>\n",
       "      <td>0.6948</td>\n",
       "      <td>95.900002</td>\n",
       "      <td>5.150000</td>\n",
       "    </tr>\n",
       "    <tr>\n",
       "      <th>137</th>\n",
       "      <td>Andorra</td>\n",
       "      <td>Europe</td>\n",
       "      <td>NaN</td>\n",
       "      <td>10.400000</td>\n",
       "      <td>8.400000</td>\n",
       "      <td>4.00</td>\n",
       "      <td>80.516663</td>\n",
       "      <td>81733</td>\n",
       "      <td>89.116669</td>\n",
       "      <td>NaN</td>\n",
       "      <td>NaN</td>\n",
       "      <td>NaN</td>\n",
       "    </tr>\n",
       "    <tr>\n",
       "      <th>138</th>\n",
       "      <td>Austria</td>\n",
       "      <td>Europe</td>\n",
       "      <td>34838.398438</td>\n",
       "      <td>10.366667</td>\n",
       "      <td>12.800000</td>\n",
       "      <td>4.50</td>\n",
       "      <td>80.183334</td>\n",
       "      <td>8320033</td>\n",
       "      <td>67.016663</td>\n",
       "      <td>0.7714</td>\n",
       "      <td>NaN</td>\n",
       "      <td>31.900002</td>\n",
       "    </tr>\n",
       "    <tr>\n",
       "      <th>139</th>\n",
       "      <td>Belarus</td>\n",
       "      <td>Europe</td>\n",
       "      <td>10391.799805</td>\n",
       "      <td>9.300000</td>\n",
       "      <td>22.100000</td>\n",
       "      <td>13.00</td>\n",
       "      <td>69.466667</td>\n",
       "      <td>9707033</td>\n",
       "      <td>73.399994</td>\n",
       "      <td>0.8208</td>\n",
       "      <td>99.699997</td>\n",
       "      <td>25.000000</td>\n",
       "    </tr>\n",
       "    <tr>\n",
       "      <th>140</th>\n",
       "      <td>Belgium</td>\n",
       "      <td>Europe</td>\n",
       "      <td>32868.800781</td>\n",
       "      <td>10.733334</td>\n",
       "      <td>14.200000</td>\n",
       "      <td>5.00</td>\n",
       "      <td>79.566666</td>\n",
       "      <td>10567200</td>\n",
       "      <td>97.350006</td>\n",
       "      <td>0.7590</td>\n",
       "      <td>NaN</td>\n",
       "      <td>38.150002</td>\n",
       "    </tr>\n",
       "    <tr>\n",
       "      <th>179</th>\n",
       "      <td>Angola</td>\n",
       "      <td>Oceania</td>\n",
       "      <td>4662.000000</td>\n",
       "      <td>4.400000</td>\n",
       "      <td>171.100006</td>\n",
       "      <td>170.00</td>\n",
       "      <td>49.666668</td>\n",
       "      <td>17783300</td>\n",
       "      <td>56.250000</td>\n",
       "      <td>0.8380</td>\n",
       "      <td>70.000000</td>\n",
       "      <td>2.250000</td>\n",
       "    </tr>\n",
       "    <tr>\n",
       "      <th>180</th>\n",
       "      <td>Australia</td>\n",
       "      <td>Oceania</td>\n",
       "      <td>33707.199219</td>\n",
       "      <td>11.983334</td>\n",
       "      <td>16.500000</td>\n",
       "      <td>5.25</td>\n",
       "      <td>81.400002</td>\n",
       "      <td>21325382</td>\n",
       "      <td>88.666664</td>\n",
       "      <td>0.7994</td>\n",
       "      <td>NaN</td>\n",
       "      <td>66.199997</td>\n",
       "    </tr>\n",
       "    <tr>\n",
       "      <th>181</th>\n",
       "      <td>Fiji</td>\n",
       "      <td>Oceania</td>\n",
       "      <td>4259.600098</td>\n",
       "      <td>10.300000</td>\n",
       "      <td>45.200001</td>\n",
       "      <td>18.00</td>\n",
       "      <td>68.783333</td>\n",
       "      <td>840417</td>\n",
       "      <td>50.900002</td>\n",
       "      <td>0.4954</td>\n",
       "      <td>NaN</td>\n",
       "      <td>7.250000</td>\n",
       "    </tr>\n",
       "    <tr>\n",
       "      <th>182</th>\n",
       "      <td>Kiribati</td>\n",
       "      <td>Oceania</td>\n",
       "      <td>2294.199951</td>\n",
       "      <td>7.800000</td>\n",
       "      <td>22.200001</td>\n",
       "      <td>49.25</td>\n",
       "      <td>67.133331</td>\n",
       "      <td>95750</td>\n",
       "      <td>43.700001</td>\n",
       "      <td>NaN</td>\n",
       "      <td>NaN</td>\n",
       "      <td>1.050000</td>\n",
       "    </tr>\n",
       "    <tr>\n",
       "      <th>183</th>\n",
       "      <td>Marshall Is</td>\n",
       "      <td>Oceania</td>\n",
       "      <td>NaN</td>\n",
       "      <td>9.800000</td>\n",
       "      <td>53.500000</td>\n",
       "      <td>36.00</td>\n",
       "      <td>70.866669</td>\n",
       "      <td>52833</td>\n",
       "      <td>70.900002</td>\n",
       "      <td>NaN</td>\n",
       "      <td>NaN</td>\n",
       "      <td>5.650000</td>\n",
       "    </tr>\n",
       "  </tbody>\n",
       "</table>\n",
       "</div>"
      ],
      "text/plain": [
       "                 country    region           gdp     school      adfert  \\\n",
       "0                Algeria    Africa   7300.399902   6.716667    7.300000   \n",
       "1                  Benin    Africa   1338.800049   3.100000  111.699997   \n",
       "2               Botswana    Africa  12307.400391   8.600000   52.099998   \n",
       "3           Burkina Faso    Africa   1063.400024   1.300000  124.800003   \n",
       "4                Burundi    Africa    349.200012   2.483333   18.600000   \n",
       "52   Antigua and Barbuda  Americas  17676.400391   8.900000   55.500000   \n",
       "53             Argentina  Americas  12274.000000   9.083333   56.900002   \n",
       "54               Bahamas  Americas           NaN   8.500000   31.799999   \n",
       "55              Barbados  Americas  19189.000000   9.250000   42.599998   \n",
       "56                Belize  Americas   6208.799805   7.850000   78.699997   \n",
       "87           Afghanistan      Asia    938.400024   2.950000  118.699997   \n",
       "88               Armenia      Asia   4879.399902  10.800000   35.700001   \n",
       "89            Azerbaijan      Asia   6945.000000   8.600000   33.799999   \n",
       "90               Bahrain      Asia  30088.000000   9.216667   14.900000   \n",
       "91            Bangladesh      Asia   1177.800049   4.483334   78.900002   \n",
       "136              Albania    Europe   6832.600098  10.283333   17.900000   \n",
       "137              Andorra    Europe           NaN  10.400000    8.400000   \n",
       "138              Austria    Europe  34838.398438  10.366667   12.800000   \n",
       "139              Belarus    Europe  10391.799805   9.300000   22.100000   \n",
       "140              Belgium    Europe  32868.800781  10.733334   14.200000   \n",
       "179               Angola   Oceania   4662.000000   4.400000  171.100006   \n",
       "180            Australia   Oceania  33707.199219  11.983334   16.500000   \n",
       "181                 Fiji   Oceania   4259.600098  10.300000   45.200001   \n",
       "182             Kiribati   Oceania   2294.199951   7.800000   22.200001   \n",
       "183          Marshall Is   Oceania           NaN   9.800000   53.500000   \n",
       "\n",
       "     chldmort       life        pop      urban  femlab   literacy         co2  \n",
       "0       34.75  72.316666   34172236  64.933334  0.4522  72.599998   15.000000  \n",
       "1      122.75  54.733334    8237634  41.000000  0.8482  41.700001    1.200000  \n",
       "2       60.25  52.250000    1941233  59.250000  0.8870  84.099998    9.200000  \n",
       "3      170.50  53.783333   15308383  23.583334  0.8584  23.600000    0.200000  \n",
       "4      168.50  48.866665    7821783  10.250000  1.0344  66.599998    0.100000  \n",
       "52      13.00  72.166664      86367  30.466667     NaN  99.000000   18.299999  \n",
       "53      15.25  75.283333   39543736  91.900002  0.6544  97.699997   15.650000  \n",
       "54      13.75  74.599998     331233  83.599998  0.8656        NaN   23.950001  \n",
       "55      11.50  76.300003     271917  42.900002  0.8430        NaN   16.650000  \n",
       "56      19.75  75.216667     296200  51.200001  0.5674        NaN   10.750000  \n",
       "87     203.00  47.400002   29501834  21.916666  0.3858        NaN    0.100000  \n",
       "88      24.00  73.683334    3077700  64.116669  0.7996  99.500000    5.300000  \n",
       "89      38.75  69.900002    8884767  51.700001  0.8890        NaN   15.400000  \n",
       "90      12.00  74.599998     990950  88.500000  0.3810  91.400002  102.649994  \n",
       "91      58.00  67.800003  144683104  26.866667  0.6952  55.900002    1.000000  \n",
       "136     17.00  76.400002    3174417  49.350002  0.6948  95.900002    5.150000  \n",
       "137      4.00  80.516663      81733  89.116669     NaN        NaN         NaN  \n",
       "138      4.50  80.183334    8320033  67.016663  0.7714        NaN   31.900002  \n",
       "139     13.00  69.466667    9707033  73.399994  0.8208  99.699997   25.000000  \n",
       "140      5.00  79.566666   10567200  97.350006  0.7590        NaN   38.150002  \n",
       "179    170.00  49.666668   17783300  56.250000  0.8380  70.000000    2.250000  \n",
       "180      5.25  81.400002   21325382  88.666664  0.7994        NaN   66.199997  \n",
       "181     18.00  68.783333     840417  50.900002  0.4954        NaN    7.250000  \n",
       "182     49.25  67.133331      95750  43.700001     NaN        NaN    1.050000  \n",
       "183     36.00  70.866669      52833  70.900002     NaN        NaN    5.650000  "
      ]
     },
     "execution_count": 50,
     "metadata": {},
     "output_type": "execute_result"
    }
   ],
   "source": [
    "# en este caso debemos utilizar el dataframe df_nations, ya que el campo literacy lo desechamos de nuestro analisis al tener demasiados valores Nan\n",
    "# los valores del campo literacy (tasa de alfabetismo), debemos averiguar si alfabetismo entendido como estudios primarios y secundarios completos, o cual es el umbral para medir este estadistico.\n",
    "temp= df_nations.drop(columns= ['Unnamed: 0', 'gini'])\n",
    "temp= temp.groupby(['region'])\n",
    "africa= temp.get_group('Africa').drop(columns= 'region')\n",
    "europa= temp.get_group('Europe').drop(columns= 'region')\n",
    "\n"
   ]
  },
  {
   "cell_type": "code",
   "execution_count": 27,
   "metadata": {},
   "outputs": [
    {
     "name": "stdout",
     "output_type": "stream",
     "text": [
      "Estadisticos sobre la Alfabetizacion por Region (para Africa y Europa)\n"
     ]
    },
    {
     "data": {
      "text/html": [
       "<div>\n",
       "<style scoped>\n",
       "    .dataframe tbody tr th:only-of-type {\n",
       "        vertical-align: middle;\n",
       "    }\n",
       "\n",
       "    .dataframe tbody tr th {\n",
       "        vertical-align: top;\n",
       "    }\n",
       "\n",
       "    .dataframe thead th {\n",
       "        text-align: right;\n",
       "    }\n",
       "</style>\n",
       "<table border=\"1\" class=\"dataframe\">\n",
       "  <thead>\n",
       "    <tr style=\"text-align: right;\">\n",
       "      <th></th>\n",
       "      <th>count</th>\n",
       "      <th>mean</th>\n",
       "      <th>std</th>\n",
       "      <th>min</th>\n",
       "      <th>25%</th>\n",
       "      <th>50%</th>\n",
       "      <th>75%</th>\n",
       "      <th>max</th>\n",
       "    </tr>\n",
       "    <tr>\n",
       "      <th>region</th>\n",
       "      <th></th>\n",
       "      <th></th>\n",
       "      <th></th>\n",
       "      <th></th>\n",
       "      <th></th>\n",
       "      <th></th>\n",
       "      <th></th>\n",
       "      <th></th>\n",
       "    </tr>\n",
       "  </thead>\n",
       "  <tbody>\n",
       "    <tr>\n",
       "      <th>Africa</th>\n",
       "      <td>47.0</td>\n",
       "      <td>65.308511</td>\n",
       "      <td>19.704853</td>\n",
       "      <td>23.600000</td>\n",
       "      <td>55.150000</td>\n",
       "      <td>66.800003</td>\n",
       "      <td>84.450001</td>\n",
       "      <td>93.300003</td>\n",
       "    </tr>\n",
       "    <tr>\n",
       "      <th>Europe</th>\n",
       "      <td>22.0</td>\n",
       "      <td>98.177273</td>\n",
       "      <td>1.864437</td>\n",
       "      <td>92.400002</td>\n",
       "      <td>97.699997</td>\n",
       "      <td>98.650002</td>\n",
       "      <td>99.674997</td>\n",
       "      <td>99.800003</td>\n",
       "    </tr>\n",
       "  </tbody>\n",
       "</table>\n",
       "</div>"
      ],
      "text/plain": [
       "        count       mean        std        min        25%        50%  \\\n",
       "region                                                                 \n",
       "Africa   47.0  65.308511  19.704853  23.600000  55.150000  66.800003   \n",
       "Europe   22.0  98.177273   1.864437  92.400002  97.699997  98.650002   \n",
       "\n",
       "              75%        max  \n",
       "region                        \n",
       "Africa  84.450001  93.300003  \n",
       "Europe  99.674997  99.800003  "
      ]
     },
     "execution_count": 27,
     "metadata": {},
     "output_type": "execute_result"
    }
   ],
   "source": [
    "# creamos un dataframe de comparacion de estadisticos en base a la variable 'literacy'(tasa de alfabetizacion), para las regiones de africa y europa\n",
    "alfabetismo_afr_eur= temp['literacy'].describe().loc[['Africa', 'Europe']]\n",
    "print('Estadisticos sobre la Alfabetizacion por Region (para Africa y Europa)')\n",
    "alfabetismo_afr_eur\n"
   ]
  },
  {
   "cell_type": "markdown",
   "metadata": {},
   "source": [
    "Podemos sacar diversas conclusiones en base a la comparacion de estadisticos sobre la tasa de alfabetizacion de las 2 regiones:\n",
    "\n",
    "* Existe una alta tasa de alfabetizacion en la region europea (mas del 98% en promedio) y es muy homogenea en relacion a toda la region(la tasa mas baja para un pais corresponde al 92%)\n",
    "* En contrapartida, aunque la region africana presenta una tasa del 65% de alfabetizacion, su variabilidad en cada pais es muy pronunciada (yendo desde un porcentaje minimo del 23% de alfabetizacion hasta un 93%) \n",
    "* Estas conclusiones estan avaladas por sus desviaciones estandar en cada region(mas de 19.7 en africa, menos de 2 en europa), podemos decir que en la region europea, practicamente todas las personas(9.8 de cada 10) son alfabetas (cuentan con una educacion basica, saben leer y escribir, o tuvieron acceso a educacion primaria y secundaria comom minimo), en cambio, en la region africana 6.5 de cada 10 personas son alfabetas y eso puede variar drasticamente en el pais donde estemos.\n"
   ]
  },
  {
   "cell_type": "markdown",
   "metadata": {},
   "source": [
    "# Visualizacion "
   ]
  },
  {
   "cell_type": "code",
   "execution_count": 28,
   "metadata": {},
   "outputs": [
    {
     "name": "stderr",
     "output_type": "stream",
     "text": [
      "C:\\Users\\usuario\\AppData\\Roaming\\Python\\Python311\\site-packages\\seaborn\\axisgrid.py:118: UserWarning: The figure layout has changed to tight\n",
      "  self._figure.tight_layout(*args, **kwargs)\n"
     ]
    },
    {
     "data": {
      "image/png": "[encoded data removed]",
      "text/plain": [
       "<Figure size 500x500 with 1 Axes>"
      ]
     },
     "metadata": {},
     "output_type": "display_data"
    }
   ],
   "source": [
    "# construimos un histograma basado en la distribucion de frecuencias de los valores gini\n",
    "sns.displot(df_nations['gini'], kind= 'hist')\n",
    "plt.axvline(df_nations['gini'].mean(), color= 'red')  ## esta linea de codigo traza una linea vertical en el grafico, que representa el valor medio de la variable\n",
    "plt.title('Valores de gini')\n",
    "plt.show()"
   ]
  },
  {
   "cell_type": "code",
   "execution_count": 29,
   "metadata": {},
   "outputs": [],
   "source": [
    "# agrupamos los valores pertenecientes a las regiones de africa y europa\n",
    "africa= df[df['Region'] == 'Africa']\n",
    "europa= df[df['Region'] == 'Europe']"
   ]
  },
  {
   "cell_type": "code",
   "execution_count": 65,
   "metadata": {},
   "outputs": [],
   "source": [
    "regiones= list(df.Region.value_counts().index)\n",
    "regiones\n",
    "\n",
    "segmentacion_regiones= {}\n",
    "\n",
    "for region in regiones:\n",
    "    segmentacion_regiones.setdefault(region, df[df['Region'] == region])\n",
    "\n"
   ]
  },
  {
   "cell_type": "code",
   "execution_count": 30,
   "metadata": {},
   "outputs": [
    {
     "data": {
      "text/plain": [
       "Index(['Country', 'Region', 'Gdp', 'School', 'Adfert', 'Chldmort', 'Life',\n",
       "       'Pop', 'Urban', 'Femlab', 'Co2'],\n",
       "      dtype='object')"
      ]
     },
     "execution_count": 30,
     "metadata": {},
     "output_type": "execute_result"
    }
   ],
   "source": [
    "df.columns"
   ]
  },
  {
   "cell_type": "code",
   "execution_count": 37,
   "metadata": {},
   "outputs": [],
   "source": [
    "# obtenemos el promedio general para los paises de las regiones de africa y europa de la tasa de mortalidad infantil\n",
    "media_europa= europa['Chldmort'].mean()\n",
    "media_africa= africa['Chldmort'].mean()\n"
   ]
  },
  {
   "cell_type": "code",
   "execution_count": 47,
   "metadata": {},
   "outputs": [
    {
     "data": {
      "image/png": "[encoded data removed]",
      "text/plain": [
       "<Figure size 640x480 with 1 Axes>"
      ]
     },
     "metadata": {},
     "output_type": "display_data"
    }
   ],
   "source": [
    "# realizaos un grafico de barras donde plotemos la tasa de mortalidad infantil en las regiones de africa y europa, para realizar una comparacion entre ellas.\n",
    "sns.barplot(x= ['Europa', 'Africa'], y= [media_europa,media_africa])\n",
    "plt.title('Grafico de comparacion\\ndel Promedio de Mortalidad Infantil (en Africa y Europa)')\n",
    "plt.ylabel('Mortalidad Infantil (en promedio)')\n",
    "plt.axhline(df['Chldmort'].mean(), color= 'red')  ## esta linea de codigo traza una linea en el grafico que representa el valor promedio general del dataset de la tasa de mortalidad infantil.\n",
    "plt.show()"
   ]
  },
  {
   "cell_type": "code",
   "execution_count": 88,
   "metadata": {},
   "outputs": [],
   "source": [
    "# Tasa de alfabetizacion de America comparada al resto del mundo\n",
    "\n",
    "alf_america= df_nations[df_nations['region'] == 'Americas']['literacy'].mean()\n",
    "alf_resto= df_nations[df_nations['region'] != 'Americas']['literacy'].mean()\n"
   ]
  },
  {
   "cell_type": "code",
   "execution_count": 90,
   "metadata": {},
   "outputs": [
    {
     "data": {
      "image/png": "[encoded data removed]",
      "text/plain": [
       "<Figure size 640x480 with 1 Axes>"
      ]
     },
     "metadata": {},
     "output_type": "display_data"
    }
   ],
   "source": [
    "sns.barplot(x= ['Americas', 'Resto del mundo'], y= [alf_america,alf_resto])\n",
    "plt.title('Comparacion de Tasa de alfabetizacion de America con el Resto del mundo (en promedio)')\n",
    "plt.ylabel('Tasa de alfabetizacion (en promedio)')\n",
    "plt.axhline(df_nations['literacy'].mean(), color= 'red')  ## esta linea de codigo traza una linea en el grafico que representa el valor promedio general del dataset de la tasa de alfabetizacion.\n",
    "plt.show()"
   ]
  },
  {
   "cell_type": "code",
   "execution_count": 94,
   "metadata": {},
   "outputs": [
    {
     "data": {
      "image/png": "[encoded data removed]",
      "text/plain": [
       "<Figure size 640x480 with 1 Axes>"
      ]
     },
     "metadata": {},
     "output_type": "display_data"
    }
   ],
   "source": [
    "# tasa de escolaridad por regiones\n",
    "\n",
    "sns.boxplot(x= df['Region'], y= df['School'])\n",
    "plt.title('Distribucion de la Tasa de escolaridad por Region')\n",
    "plt.xlabel('Regiones')\n",
    "plt.ylabel('Escolaridad (en años)')\n",
    "plt.show()"
   ]
  },
  {
   "cell_type": "code",
   "execution_count": 96,
   "metadata": {},
   "outputs": [
    {
     "data": {
      "image/png": "[encoded data removed]",
      "text/plain": [
       "<Figure size 640x480 with 1 Axes>"
      ]
     },
     "metadata": {},
     "output_type": "display_data"
    }
   ],
   "source": [
    "# graficamos la relacion entre las variables escolaridad y alfabetizacion\n",
    "\n",
    "# primero separamos esas columnas del dataframe y las limpiamos de valores nan\n",
    "temp= df_nations[['school', 'literacy']].dropna()\n",
    "\n",
    "# ahora si graficamos\n",
    "sns.scatterplot(x=temp['school'] , y= temp['literacy'])\n",
    "plt.title('Alfabetizacion segun los años de escolaridad')\n",
    "plt.xlabel('Años de escolaridad')\n",
    "plt.ylabel('Tasa de Alfabetizacion (en %)')\n",
    "plt.show()"
   ]
  },
  {
   "cell_type": "code",
   "execution_count": 98,
   "metadata": {},
   "outputs": [
    {
     "data": {
      "text/html": [
       "<div>\n",
       "<style scoped>\n",
       "    .dataframe tbody tr th:only-of-type {\n",
       "        vertical-align: middle;\n",
       "    }\n",
       "\n",
       "    .dataframe tbody tr th {\n",
       "        vertical-align: top;\n",
       "    }\n",
       "\n",
       "    .dataframe thead th {\n",
       "        text-align: right;\n",
       "    }\n",
       "</style>\n",
       "<table border=\"1\" class=\"dataframe\">\n",
       "  <thead>\n",
       "    <tr style=\"text-align: right;\">\n",
       "      <th></th>\n",
       "      <th>school</th>\n",
       "      <th>literacy</th>\n",
       "    </tr>\n",
       "  </thead>\n",
       "  <tbody>\n",
       "    <tr>\n",
       "      <th>school</th>\n",
       "      <td>1.00000</td>\n",
       "      <td>0.85491</td>\n",
       "    </tr>\n",
       "    <tr>\n",
       "      <th>literacy</th>\n",
       "      <td>0.85491</td>\n",
       "      <td>1.00000</td>\n",
       "    </tr>\n",
       "  </tbody>\n",
       "</table>\n",
       "</div>"
      ],
      "text/plain": [
       "           school  literacy\n",
       "school    1.00000   0.85491\n",
       "literacy  0.85491   1.00000"
      ]
     },
     "execution_count": 98,
     "metadata": {},
     "output_type": "execute_result"
    }
   ],
   "source": [
    "# sacamos la correlacion entre ambas variables\n",
    "temp.corr()\n",
    "\n",
    "# esto nos muestra que existe una correlacion positiva entre la escolaridad y la tasa de alfabetizacion, es decir\n",
    "# a mayor cantidad de años de escolaridad, mayor tasa de alfabetizacion."
   ]
  },
  {
   "cell_type": "code",
   "execution_count": 99,
   "metadata": {},
   "outputs": [
    {
     "data": {
      "text/plain": [
       "Index(['Country', 'Region', 'Gdp', 'School', 'Adfert', 'Chldmort', 'Life',\n",
       "       'Pop', 'Urban', 'Femlab', 'Co2'],\n",
       "      dtype='object')"
      ]
     },
     "execution_count": 99,
     "metadata": {},
     "output_type": "execute_result"
    }
   ],
   "source": [
    "df.columns"
   ]
  },
  {
   "cell_type": "code",
   "execution_count": 101,
   "metadata": {},
   "outputs": [
    {
     "data": {
      "image/png": "[encoded data removed]",
      "text/plain": [
       "<Figure size 640x480 with 1 Axes>"
      ]
     },
     "metadata": {},
     "output_type": "display_data"
    }
   ],
   "source": [
    "# relacion entre escolaridad y gdp (producto bruto interno per capita).\n",
    "\n",
    "# separamos los campos de interes y los limpiamos de valores nan\n",
    "\n",
    "temp= df_nations[['school', 'gdp']].dropna()\n",
    "\n",
    "# ahora si graficamos\n",
    "sns.scatterplot(x=temp['gdp'] , y= temp['school'])\n",
    "plt.title('Escolaridad segun el PBI per capita')\n",
    "plt.ylabel('Años de Escolaridad')\n",
    "plt.xlabel('PIB per capita (en USD)')\n",
    "plt.show()\n"
   ]
  },
  {
   "cell_type": "code",
   "execution_count": 102,
   "metadata": {},
   "outputs": [
    {
     "data": {
      "text/html": [
       "<div>\n",
       "<style scoped>\n",
       "    .dataframe tbody tr th:only-of-type {\n",
       "        vertical-align: middle;\n",
       "    }\n",
       "\n",
       "    .dataframe tbody tr th {\n",
       "        vertical-align: top;\n",
       "    }\n",
       "\n",
       "    .dataframe thead th {\n",
       "        text-align: right;\n",
       "    }\n",
       "</style>\n",
       "<table border=\"1\" class=\"dataframe\">\n",
       "  <thead>\n",
       "    <tr style=\"text-align: right;\">\n",
       "      <th></th>\n",
       "      <th>school</th>\n",
       "      <th>gdp</th>\n",
       "    </tr>\n",
       "  </thead>\n",
       "  <tbody>\n",
       "    <tr>\n",
       "      <th>school</th>\n",
       "      <td>1.00000</td>\n",
       "      <td>0.57328</td>\n",
       "    </tr>\n",
       "    <tr>\n",
       "      <th>gdp</th>\n",
       "      <td>0.57328</td>\n",
       "      <td>1.00000</td>\n",
       "    </tr>\n",
       "  </tbody>\n",
       "</table>\n",
       "</div>"
      ],
      "text/plain": [
       "         school      gdp\n",
       "school  1.00000  0.57328\n",
       "gdp     0.57328  1.00000"
      ]
     },
     "execution_count": 102,
     "metadata": {},
     "output_type": "execute_result"
    }
   ],
   "source": [
    "# obtenemos la correlacion entre los campos\n",
    "temp.corr()\n",
    "\n",
    "# como vemos, no existe una correlacion lineal clara entre el PBI per capita y la escolaridad"
   ]
  },
  {
   "cell_type": "code",
   "execution_count": 104,
   "metadata": {},
   "outputs": [
    {
     "data": {
      "text/plain": [
       "Index(['Unnamed: 0', 'country', 'region', 'gdp', 'school', 'adfert',\n",
       "       'chldmort', 'life', 'pop', 'urban', 'femlab', 'literacy', 'co2',\n",
       "       'gini'],\n",
       "      dtype='object')"
      ]
     },
     "execution_count": 104,
     "metadata": {},
     "output_type": "execute_result"
    }
   ],
   "source": [
    "df_nations.columns"
   ]
  },
  {
   "cell_type": "code",
   "execution_count": 105,
   "metadata": {},
   "outputs": [],
   "source": [
    "# creamos una tabla de correlaciones de nuestro dataframe\n",
    "correlaciones= df_nations.drop(columns= ['Unnamed: 0', 'country', 'region']).corr()"
   ]
  },
  {
   "cell_type": "code",
   "execution_count": 106,
   "metadata": {},
   "outputs": [
    {
     "data": {
      "image/png": "[encoded data removed]",
      "text/plain": [
       "<Figure size 2000x1000 with 2 Axes>"
      ]
     },
     "metadata": {},
     "output_type": "display_data"
    }
   ],
   "source": [
    "# graficamos las correlaciones entre variables\n",
    "\n",
    "plt.figure(figsize= (20,10))\n",
    "sns.heatmap(correlaciones, cmap= 'Greens', annot= True)\n",
    "plt.title('Grafico de correlaciones entre variables')\n",
    "plt.show()\n",
    "\n",
    "# cuanto mas oscuro es el color, mayor es la correlacion positiva/directa, cuanto mas claro es el color, mayor es nuestra correlacion negativa/inversa, un verde intermedio nos\n",
    "# indica la falta de correlacion entre variables"
   ]
  },
  {
   "cell_type": "markdown",
   "metadata": {},
   "source": [
    "# Modelado"
   ]
  },
  {
   "cell_type": "code",
   "execution_count": 107,
   "metadata": {},
   "outputs": [],
   "source": [
    "# aplicamos un modelo de regresion lineal\n"
   ]
  },
  {
   "cell_type": "code",
   "execution_count": null,
   "metadata": {},
   "outputs": [],
   "source": [
    "# plantemos el modelo con su pregunta\n",
    "# Cual es la relacion entre las emiciones co2 y el PBI?"
   ]
  },
  {
   "cell_type": "code",
   "execution_count": 109,
   "metadata": {},
   "outputs": [],
   "source": [
    "# para modelar, debemos pasar datos sin valores nan\n",
    "data_limpia= df_nations.dropna()"
   ]
  },
  {
   "cell_type": "code",
   "execution_count": 116,
   "metadata": {},
   "outputs": [],
   "source": [
    "modelo1= smf.ols('gdp ~ co2', data= data_limpia).fit()"
   ]
  },
  {
   "cell_type": "code",
   "execution_count": 117,
   "metadata": {},
   "outputs": [
    {
     "data": {
      "text/html": [
       "<table class=\"simpletable\">\n",
       "<caption>OLS Regression Results</caption>\n",
       "<tr>\n",
       "  <th>Dep. Variable:</th>           <td>gdp</td>       <th>  R-squared:         </th> <td>   0.872</td>\n",
       "</tr>\n",
       "<tr>\n",
       "  <th>Model:</th>                   <td>OLS</td>       <th>  Adj. R-squared:    </th> <td>   0.870</td>\n",
       "</tr>\n",
       "<tr>\n",
       "  <th>Method:</th>             <td>Least Squares</td>  <th>  F-statistic:       </th> <td>   470.4</td>\n",
       "</tr>\n",
       "<tr>\n",
       "  <th>Date:</th>             <td>Mon, 09 Oct 2023</td> <th>  Prob (F-statistic):</th> <td>1.59e-32</td>\n",
       "</tr>\n",
       "<tr>\n",
       "  <th>Time:</th>                 <td>09:18:00</td>     <th>  Log-Likelihood:    </th> <td> -677.72</td>\n",
       "</tr>\n",
       "<tr>\n",
       "  <th>No. Observations:</th>      <td>    71</td>      <th>  AIC:               </th> <td>   1359.</td>\n",
       "</tr>\n",
       "<tr>\n",
       "  <th>Df Residuals:</th>          <td>    69</td>      <th>  BIC:               </th> <td>   1364.</td>\n",
       "</tr>\n",
       "<tr>\n",
       "  <th>Df Model:</th>              <td>     1</td>      <th>                     </th>     <td> </td>   \n",
       "</tr>\n",
       "<tr>\n",
       "  <th>Covariance Type:</th>      <td>nonrobust</td>    <th>                     </th>     <td> </td>   \n",
       "</tr>\n",
       "</table>\n",
       "<table class=\"simpletable\">\n",
       "<tr>\n",
       "      <td></td>         <th>coef</th>     <th>std err</th>      <th>t</th>      <th>P>|t|</th>  <th>[0.025</th>    <th>0.975]</th>  \n",
       "</tr>\n",
       "<tr>\n",
       "  <th>Intercept</th> <td> 2791.2666</td> <td>  448.368</td> <td>    6.225</td> <td> 0.000</td> <td> 1896.797</td> <td> 3685.737</td>\n",
       "</tr>\n",
       "<tr>\n",
       "  <th>co2</th>       <td>  343.9784</td> <td>   15.860</td> <td>   21.688</td> <td> 0.000</td> <td>  312.338</td> <td>  375.619</td>\n",
       "</tr>\n",
       "</table>\n",
       "<table class=\"simpletable\">\n",
       "<tr>\n",
       "  <th>Omnibus:</th>       <td> 7.687</td> <th>  Durbin-Watson:     </th> <td>   1.154</td>\n",
       "</tr>\n",
       "<tr>\n",
       "  <th>Prob(Omnibus):</th> <td> 0.021</td> <th>  Jarque-Bera (JB):  </th> <td>   7.423</td>\n",
       "</tr>\n",
       "<tr>\n",
       "  <th>Skew:</th>          <td> 0.785</td> <th>  Prob(JB):          </th> <td>  0.0244</td>\n",
       "</tr>\n",
       "<tr>\n",
       "  <th>Kurtosis:</th>      <td> 3.217</td> <th>  Cond. No.          </th> <td>    31.1</td>\n",
       "</tr>\n",
       "</table><br/><br/>Notes:<br/>[1] Standard Errors assume that the covariance matrix of the errors is correctly specified."
      ],
      "text/latex": [
       "\\begin{center}\n",
       "\\begin{tabular}{lclc}\n",
       "\\toprule\n",
       "\\textbf{Dep. Variable:}    &       gdp        & \\textbf{  R-squared:         } &     0.872   \\\\\n",
       "\\textbf{Model:}            &       OLS        & \\textbf{  Adj. R-squared:    } &     0.870   \\\\\n",
       "\\textbf{Method:}           &  Least Squares   & \\textbf{  F-statistic:       } &     470.4   \\\\\n",
       "\\textbf{Date:}             & Mon, 09 Oct 2023 & \\textbf{  Prob (F-statistic):} &  1.59e-32   \\\\\n",
       "\\textbf{Time:}             &     09:18:00     & \\textbf{  Log-Likelihood:    } &   -677.72   \\\\\n",
       "\\textbf{No. Observations:} &          71      & \\textbf{  AIC:               } &     1359.   \\\\\n",
       "\\textbf{Df Residuals:}     &          69      & \\textbf{  BIC:               } &     1364.   \\\\\n",
       "\\textbf{Df Model:}         &           1      & \\textbf{                     } &             \\\\\n",
       "\\textbf{Covariance Type:}  &    nonrobust     & \\textbf{                     } &             \\\\\n",
       "\\bottomrule\n",
       "\\end{tabular}\n",
       "\\begin{tabular}{lcccccc}\n",
       "                   & \\textbf{coef} & \\textbf{std err} & \\textbf{t} & \\textbf{P$> |$t$|$} & \\textbf{[0.025} & \\textbf{0.975]}  \\\\\n",
       "\\midrule\n",
       "\\textbf{Intercept} &    2791.2666  &      448.368     &     6.225  &         0.000        &     1896.797    &     3685.737     \\\\\n",
       "\\textbf{co2}       &     343.9784  &       15.860     &    21.688  &         0.000        &      312.338    &      375.619     \\\\\n",
       "\\bottomrule\n",
       "\\end{tabular}\n",
       "\\begin{tabular}{lclc}\n",
       "\\textbf{Omnibus:}       &  7.687 & \\textbf{  Durbin-Watson:     } &    1.154  \\\\\n",
       "\\textbf{Prob(Omnibus):} &  0.021 & \\textbf{  Jarque-Bera (JB):  } &    7.423  \\\\\n",
       "\\textbf{Skew:}          &  0.785 & \\textbf{  Prob(JB):          } &   0.0244  \\\\\n",
       "\\textbf{Kurtosis:}      &  3.217 & \\textbf{  Cond. No.          } &     31.1  \\\\\n",
       "\\bottomrule\n",
       "\\end{tabular}\n",
       "%\\caption{OLS Regression Results}\n",
       "\\end{center}\n",
       "\n",
       "Notes: \\newline\n",
       " [1] Standard Errors assume that the covariance matrix of the errors is correctly specified."
      ],
      "text/plain": [
       "<class 'statsmodels.iolib.summary.Summary'>\n",
       "\"\"\"\n",
       "                            OLS Regression Results                            \n",
       "==============================================================================\n",
       "Dep. Variable:                    gdp   R-squared:                       0.872\n",
       "Model:                            OLS   Adj. R-squared:                  0.870\n",
       "Method:                 Least Squares   F-statistic:                     470.4\n",
       "Date:                Mon, 09 Oct 2023   Prob (F-statistic):           1.59e-32\n",
       "Time:                        09:18:00   Log-Likelihood:                -677.72\n",
       "No. Observations:                  71   AIC:                             1359.\n",
       "Df Residuals:                      69   BIC:                             1364.\n",
       "Df Model:                           1                                         \n",
       "Covariance Type:            nonrobust                                         \n",
       "==============================================================================\n",
       "                 coef    std err          t      P>|t|      [0.025      0.975]\n",
       "------------------------------------------------------------------------------\n",
       "Intercept   2791.2666    448.368      6.225      0.000    1896.797    3685.737\n",
       "co2          343.9784     15.860     21.688      0.000     312.338     375.619\n",
       "==============================================================================\n",
       "Omnibus:                        7.687   Durbin-Watson:                   1.154\n",
       "Prob(Omnibus):                  0.021   Jarque-Bera (JB):                7.423\n",
       "Skew:                           0.785   Prob(JB):                       0.0244\n",
       "Kurtosis:                       3.217   Cond. No.                         31.1\n",
       "==============================================================================\n",
       "\n",
       "Notes:\n",
       "[1] Standard Errors assume that the covariance matrix of the errors is correctly specified.\n",
       "\"\"\""
      ]
     },
     "execution_count": 117,
     "metadata": {},
     "output_type": "execute_result"
    }
   ],
   "source": [
    "modelo1.summary()"
   ]
  }
 ],
 "metadata": {
  "kernelspec": {
   "display_name": "Python 3",
   "language": "python",
   "name": "python3"
  },
  "language_info": {
   "codemirror_mode": {
    "name": "ipython",
    "version": 3
   },
   "file_extension": ".py",
   "mimetype": "text/x-python",
   "name": "python",
   "nbconvert_exporter": "python",
   "pygments_lexer": "ipython3",
   "version": "3.11.0"
  }
 },
 "nbformat": 4,
 "nbformat_minor": 2
}
